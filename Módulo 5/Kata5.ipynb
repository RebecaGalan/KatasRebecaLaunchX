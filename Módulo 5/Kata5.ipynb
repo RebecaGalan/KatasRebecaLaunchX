{
 "cells": [
  {
   "cell_type": "code",
   "execution_count": 31,
   "metadata": {},
   "outputs": [
    {
     "name": "stdout",
     "output_type": "stream",
     "text": [
      "628949330\n"
     ]
    }
   ],
   "source": [
    "tierra = 149597870\n",
    "jupiter = 778547200\n",
    "distanciaKM = (jupiter - tierra)\n",
    "print (distanciaKM)"
   ]
  },
  {
   "cell_type": "code",
   "execution_count": 32,
   "metadata": {},
   "outputs": [
    {
     "name": "stdout",
     "output_type": "stream",
     "text": [
      "390577533.93\n"
     ]
    }
   ],
   "source": [
    "distanciaMillas =  distanciaKM * 0.621\n",
    "print (distanciaMillas)"
   ]
  },
  {
   "cell_type": "markdown",
   "metadata": {},
   "source": [
    "# Ejercicio 2"
   ]
  },
  {
   "cell_type": "code",
   "execution_count": 33,
   "metadata": {},
   "outputs": [],
   "source": [
    "solPlaneta1In = input('¿Cuál la distancia del Sol al primer planeta en km?')\n",
    "solPlaneta2In = input('¿Cuál la distancia del Sol al segundo planeta en km?')\n",
    "\n",
    "solPlaneta1 = int(solPlaneta1In)\n",
    "solPlaneta2 = int(solPlaneta2In)"
   ]
  },
  {
   "cell_type": "code",
   "execution_count": 34,
   "metadata": {},
   "outputs": [
    {
     "name": "stdout",
     "output_type": "stream",
     "text": [
      "KM :  -40\n",
      "MI: 24.8\n"
     ]
    }
   ],
   "source": [
    "distanciaKMdOS = solPlaneta2 - solPlaneta1\n",
    "print('KM : ',distanciaKMdOS)\n",
    "\n",
    "distanciaMIDos = distanciaKMdOS * 0.62\n",
    "print('MI:',abs(distanciaMIDos))"
   ]
  }
 ],
 "metadata": {
  "interpreter": {
   "hash": "30e9be708c185af06ce0e6b16206817631b1c213d1683e5ceb4ea2d989c7f878"
  },
  "kernelspec": {
   "display_name": "Python 3.10.2 64-bit",
   "language": "python",
   "name": "python3"
  },
  "language_info": {
   "codemirror_mode": {
    "name": "ipython",
    "version": 3
   },
   "file_extension": ".py",
   "mimetype": "text/x-python",
   "name": "python",
   "nbconvert_exporter": "python",
   "pygments_lexer": "ipython3",
   "version": "3.10.2"
  },
  "orig_nbformat": 4
 },
 "nbformat": 4,
 "nbformat_minor": 2
}
