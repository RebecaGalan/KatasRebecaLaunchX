{
 "cells": [
  {
   "cell_type": "markdown",
   "metadata": {},
   "source": [
    "#  Ejercicio"
   ]
  },
  {
   "cell_type": "code",
   "execution_count": 8,
   "metadata": {},
   "outputs": [],
   "source": [
    "def reporte(t1, t2, t3):\n",
    "    return  (t1 + t2 + t3) / 3"
   ]
  },
  {
   "cell_type": "code",
   "execution_count": 9,
   "metadata": {},
   "outputs": [
    {
     "name": "stdout",
     "output_type": "stream",
     "text": [
      "78.33333333333333\n"
     ]
    }
   ],
   "source": [
    " \n",
    "print(reporte(80, 70, 85))"
   ]
  },
  {
   "cell_type": "code",
   "execution_count": 10,
   "metadata": {},
   "outputs": [],
   "source": [
    "def promedio(valores):\n",
    "    total = sum(valores)\n",
    "    items = len(valores)\n",
    "    return total / items"
   ]
  },
  {
   "cell_type": "code",
   "execution_count": 11,
   "metadata": {},
   "outputs": [],
   "source": [
    "def reporte(t1, t2, t3):\n",
    "    return  promedio([t1, t2, t3]) "
   ]
  },
  {
   "cell_type": "code",
   "execution_count": 12,
   "metadata": {},
   "outputs": [
    {
     "name": "stdout",
     "output_type": "stream",
     "text": [
      "78.0\n"
     ]
    }
   ],
   "source": [
    "print(reporte(88, 76, 70))"
   ]
  },
  {
   "cell_type": "markdown",
   "metadata": {},
   "source": [
    "# Ejercicio 2"
   ]
  },
  {
   "cell_type": "code",
   "execution_count": 13,
   "metadata": {},
   "outputs": [
    {
     "name": "stdout",
     "output_type": "stream",
     "text": [
      "\n",
      "    Destino: Venus\n",
      "    Tiempo de viaje: 130 minutos\n",
      "    Combustible restante: 40 galones\n",
      "    \n"
     ]
    }
   ],
   "source": [
    "def reportMission(prelanzamiento, tiempoVuelo, destino, tanqueExterno, tanqueInterno):\n",
    "    return f\"\"\"\n",
    "    Destino: {destino}\n",
    "    Tiempo de viaje: {prelanzamiento + tiempoVuelo} minutos\n",
    "    Combustible restante: {tanqueExterno + tanqueInterno} galones\n",
    "    \"\"\"\n",
    "\n",
    "print(reportMission(60,70, \"Venus\", 30, 10))"
   ]
  },
  {
   "cell_type": "code",
   "execution_count": 14,
   "metadata": {},
   "outputs": [
    {
     "name": "stdout",
     "output_type": "stream",
     "text": [
      "\n",
      "   Destino Venus\n",
      "     Tiempo de viaje: 76 minutos\n",
      "     Combustible restante: 400 galones\n",
      "    \n"
     ]
    }
   ],
   "source": [
    "def reportMission(destino, *minutes, **fuel_reservoirs):\n",
    "    return f\"\"\"\n",
    "   Destino {destino}\n",
    "     Tiempo de viaje: {sum(minutes)} minutos\n",
    "     Combustible restante: {sum(fuel_reservoirs.values())} galones\n",
    "    \"\"\"\n",
    "\n",
    "print(reportMission(\"Venus\", 10, 15, 51, main=300, external=100))"
   ]
  },
  {
   "cell_type": "code",
   "execution_count": 15,
   "metadata": {},
   "outputs": [
    {
     "name": "stdout",
     "output_type": "stream",
     "text": [
      "\n",
      "    Destino Venus\n",
      "     Tiempo de viaje: 74 minutos\n",
      "     Combustible : 500000 galones\n",
      "    main tamque --> 300000 tiene galones\n",
      "external tamque --> 200000 tiene galones\n",
      "\n"
     ]
    }
   ],
   "source": [
    "def reportMission(destino, *minutes, **fuel_reservoirs):\n",
    "    main_report = f\"\"\"\n",
    "    Destino {destino}\n",
    "     Tiempo de viaje: {sum(minutes)} minutos\n",
    "     Combustible : {sum(fuel_reservoirs.values())} galones\n",
    "    \"\"\"\n",
    "    for tank_name, gallons in fuel_reservoirs.items():\n",
    "        main_report += f\"{tank_name} tamque --> {gallons} tiene galones\\n\"\n",
    "    return main_report\n",
    "\n",
    "print(reportMission(\"Venus\", 8, 11, 55, main=300000, external=200000))"
   ]
  }
 ],
 "metadata": {
  "interpreter": {
   "hash": "2c948cddf896161a1d7f91c6ae189d218fd0ee3048e00bd5b13002b76c05dcd5"
  },
  "kernelspec": {
   "display_name": "Python 3.10.2 64-bit",
   "language": "python",
   "name": "python3"
  },
  "language_info": {
   "codemirror_mode": {
    "name": "ipython",
    "version": 3
   },
   "file_extension": ".py",
   "mimetype": "text/x-python",
   "name": "python",
   "nbconvert_exporter": "python",
   "pygments_lexer": "ipython3",
   "version": "3.10.2"
  },
  "orig_nbformat": 4
 },
 "nbformat": 4,
 "nbformat_minor": 2
}
