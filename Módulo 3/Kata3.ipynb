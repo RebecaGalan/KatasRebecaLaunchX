{
 "cells": [
  {
   "cell_type": "code",
   "execution_count": 1,
   "metadata": {},
   "outputs": [
    {
     "name": "stdout",
     "output_type": "stream",
     "text": [
      "¡Peligro!\n"
     ]
    }
   ],
   "source": [
    "asteroide = 49\n",
    "if asteroide > 25:\n",
    "    print('¡Peligro!')\n",
    "else:\n",
    "    print('Todo bien')"
   ]
  },
  {
   "cell_type": "code",
   "execution_count": 2,
   "metadata": {},
   "outputs": [
    {
     "name": "stdout",
     "output_type": "stream",
     "text": [
      "A veces produce un rayo de Sol que se ve desde la Tierra\n"
     ]
    }
   ],
   "source": [
    "asteroide = 19\n",
    "if asteroide >= 20:\n",
    "    print('A veces produce un rayo de Sol que se ve desde la Tierra')\n",
    "else:\n",
    "    print('Todo bien')"
   ]
  },
  {
   "cell_type": "code",
   "execution_count": 3,
   "metadata": {},
   "outputs": [
    {
     "name": "stdout",
     "output_type": "stream",
     "text": [
      "A veces produce un rayo de Sol que se ve desde la Tierra\n"
     ]
    }
   ],
   "source": [
    "velocidadA = 25\n",
    "tamanoA = 40\n",
    "if velocidadA > 25 and tamanoA > 25:\n",
    "    print('¡Peligro!')\n",
    "elif velocidadA >= 20:\n",
    "    print('A veces produce un rayo de Sol que se ve desde la Tierra')\n",
    "elif tamanoA < 25:\n",
    "    print('Todo bien')\n",
    "else:\n",
    "    print('Todo bien')"
   ]
  }
 ],
 "metadata": {
  "interpreter": {
   "hash": "30e9be708c185af06ce0e6b16206817631b1c213d1683e5ceb4ea2d989c7f878"
  },
  "kernelspec": {
   "display_name": "Python 3.10.2 64-bit",
   "language": "python",
   "name": "python3"
  },
  "language_info": {
   "codemirror_mode": {
    "name": "ipython",
    "version": 3
   },
   "file_extension": ".py",
   "mimetype": "text/x-python",
   "name": "python",
   "nbconvert_exporter": "python",
   "pygments_lexer": "ipython3",
   "version": "3.10.2"
  },
  "orig_nbformat": 4
 },
 "nbformat": 4,
 "nbformat_minor": 2
}
