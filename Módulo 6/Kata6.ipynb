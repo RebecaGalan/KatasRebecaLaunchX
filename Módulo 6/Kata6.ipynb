{
 "cells": [
  {
   "cell_type": "code",
   "execution_count": 16,
   "metadata": {},
   "outputs": [
    {
     "name": "stdout",
     "output_type": "stream",
     "text": [
      "Estos son los planetas: ['Mercurio', 'Venus', 'Tierra', 'Marte', 'Júpiter', 'Saturno', 'Urano', 'Neptuno']\n",
      "Estos son los planetas: 8\n"
     ]
    }
   ],
   "source": [
    "planets = [\"Mercurio\", \"Venus\", \"Tierra\", \"Marte\", \"Júpiter\", \"Saturno\", \"Urano\", \"Neptuno\"]\n",
    "print (\"Estos son los planetas:\", (planets))\n",
    "print (\"Estos son los planetas:\",  len(planets))"
   ]
  },
  {
   "cell_type": "code",
   "execution_count": 18,
   "metadata": {},
   "outputs": [
    {
     "name": "stdout",
     "output_type": "stream",
     "text": [
      "['Mercurio', 'Venus', 'Tierra', 'Marte', 'Júpiter', 'Saturno', 'Urano', 'Neptuno', 'Plutón', 'Plutón']\n"
     ]
    }
   ],
   "source": [
    "planets.append (\"Plutón\")\n",
    "print (planets)"
   ]
  },
  {
   "cell_type": "code",
   "execution_count": 20,
   "metadata": {},
   "outputs": [
    {
     "name": "stdout",
     "output_type": "stream",
     "text": [
      "Plutón\n"
     ]
    }
   ],
   "source": [
    "\n",
    "print(planets[-1])"
   ]
  },
  {
   "cell_type": "markdown",
   "metadata": {},
   "source": [
    "# Ejercicio 2"
   ]
  },
  {
   "cell_type": "code",
   "execution_count": 37,
   "metadata": {},
   "outputs": [
    {
     "name": "stdout",
     "output_type": "stream",
     "text": [
      "Planetas más cercanos al Sol:  1\n",
      "['Mercurio']\n",
      "Planetas más lejanos al Sol:Venus\n",
      "['Tierra', 'Marte', 'Júpiter', 'Saturno', 'Urano', 'Neptuno']\n"
     ]
    }
   ],
   "source": [
    "planetaIn = input('Introduce el nombre de un planeta, inicia con mayúscula')\n",
    "planetBuscar = planets.index(planetaIn)\n",
    "print ('Planetas más cercanos al Sol: ', + planetBuscar)\n",
    "print (planets[0:planetBuscar])\n",
    "print('Planetas más lejanos al Sol:' + planetaIn)\n",
    "print(planets[planetBuscar + 1:])"
   ]
  }
 ],
 "metadata": {
  "interpreter": {
   "hash": "30e9be708c185af06ce0e6b16206817631b1c213d1683e5ceb4ea2d989c7f878"
  },
  "kernelspec": {
   "display_name": "Python 3.10.2 64-bit",
   "language": "python",
   "name": "python3"
  },
  "language_info": {
   "codemirror_mode": {
    "name": "ipython",
    "version": 3
   },
   "file_extension": ".py",
   "mimetype": "text/x-python",
   "name": "python",
   "nbconvert_exporter": "python",
   "pygments_lexer": "ipython3",
   "version": "3.10.2"
  },
  "orig_nbformat": 4
 },
 "nbformat": 4,
 "nbformat_minor": 2
}
