{
 "cells": [
  {
   "cell_type": "markdown",
   "metadata": {},
   "source": [
    "# Ejercicio 1"
   ]
  },
  {
   "cell_type": "code",
   "execution_count": 15,
   "metadata": {},
   "outputs": [],
   "source": [
    "planeta = {\n",
    "    'nombre': 'Marte',\n",
    "    'moons': 2\n",
    "}"
   ]
  },
  {
   "cell_type": "code",
   "execution_count": 16,
   "metadata": {},
   "outputs": [
    {
     "name": "stdout",
     "output_type": "stream",
     "text": [
      "Marte tiene 2 lunas\n"
     ]
    }
   ],
   "source": [
    "print(f'{planeta[\"nombre\"]} tiene {planeta[\"moons\"]} lunas')"
   ]
  },
  {
   "cell_type": "code",
   "execution_count": 17,
   "metadata": {},
   "outputs": [
    {
     "name": "stdout",
     "output_type": "stream",
     "text": [
      "Marte tiene una cifuncerencia de  6752\n"
     ]
    }
   ],
   "source": [
    "planeta['circunferencia'] = {\n",
    "    'polar': 6752,\n",
    "    'equatorial': 6792\n",
    "}\n",
    "\n",
    "print(f'{planeta[\"nombre\"]} tiene una cifuncerencia de  {planeta[\"circunferencia\"][\"polar\"]}')"
   ]
  },
  {
   "cell_type": "markdown",
   "metadata": {},
   "source": [
    "# Ejercicio 2"
   ]
  },
  {
   "cell_type": "code",
   "execution_count": 18,
   "metadata": {},
   "outputs": [],
   "source": [
    "lunasPlanetas = {\n",
    "    'Mercurio': 0,\n",
    "    'Venus': 0,\n",
    "    'Tierra': 1,\n",
    "    'Marte': 2,\n",
    "    'Júpiter': 79,\n",
    "    'Saturno': 82,\n",
    "    'Urano': 27,\n",
    "    'Neptuno': 14,\n",
    "    'Plutón': 5,\n",
    "    'Haumea': 2,\n",
    "    'Makemake': 1,\n",
    "    'Eris': 1\n",
    "}"
   ]
  },
  {
   "cell_type": "code",
   "execution_count": 19,
   "metadata": {},
   "outputs": [
    {
     "name": "stdout",
     "output_type": "stream",
     "text": [
      "Total de Lunas 214\n",
      "Promedio de Lunas 17.833333333333332\n"
     ]
    }
   ],
   "source": [
    "\n",
    "numeroplanetas = len(lunasPlanetas.keys())\n",
    "numerolunas = 0;\n",
    "\n",
    "for planeta in lunasPlanetas.keys():\n",
    "        numerolunas += lunasPlanetas[planeta] \n",
    "\n",
    "\n",
    "\n",
    "print('Total de Lunas',numerolunas)\n",
    "\n",
    "print('Promedio de Lunas',(numerolunas / numeroplanetas))"
   ]
  }
 ],
 "metadata": {
  "interpreter": {
   "hash": "2c948cddf896161a1d7f91c6ae189d218fd0ee3048e00bd5b13002b76c05dcd5"
  },
  "kernelspec": {
   "display_name": "Python 3.10.2 64-bit",
   "language": "python",
   "name": "python3"
  },
  "language_info": {
   "codemirror_mode": {
    "name": "ipython",
    "version": 3
   },
   "file_extension": ".py",
   "mimetype": "text/x-python",
   "name": "python",
   "nbconvert_exporter": "python",
   "pygments_lexer": "ipython3",
   "version": "3.10.2"
  },
  "orig_nbformat": 4
 },
 "nbformat": 4,
 "nbformat_minor": 2
}
